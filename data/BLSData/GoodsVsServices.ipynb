{
 "cells": [
  {
   "cell_type": "code",
   "execution_count": 179,
   "metadata": {
    "collapsed": true
   },
   "outputs": [],
   "source": [
    "import pandas as pd\n",
    "import numpy as np"
   ]
  },
  {
   "cell_type": "code",
   "execution_count": 180,
   "metadata": {
    "collapsed": true
   },
   "outputs": [],
   "source": [
    "fh = open(\"GoodsVsServices.txt\", \"r\") \n",
    "lines = fh.readlines()"
   ]
  },
  {
   "cell_type": "code",
   "execution_count": 181,
   "metadata": {
    "collapsed": false
   },
   "outputs": [
    {
     "data": {
      "text/plain": [
       "106"
      ]
     },
     "execution_count": 181,
     "metadata": {},
     "output_type": "execute_result"
    }
   ],
   "source": [
    "(len(lines))/240"
   ]
  },
  {
   "cell_type": "code",
   "execution_count": 182,
   "metadata": {
    "collapsed": true
   },
   "outputs": [],
   "source": [
    "seriesIds = 106\n",
    "linesPerSery = 240 #including two spaces on top"
   ]
  },
  {
   "cell_type": "code",
   "execution_count": 183,
   "metadata": {
    "collapsed": true
   },
   "outputs": [],
   "source": [
    "def getState(seriesNumber):\n",
    "    stateIndex = seriesNumber*linesPerSery+6\n",
    "    stateLine = lines[stateIndex].rstrip()\n",
    "    parts = stateLine.split(':')\n",
    "    state = parts[1].strip()\n",
    "    return state"
   ]
  },
  {
   "cell_type": "code",
   "execution_count": 184,
   "metadata": {
    "collapsed": false
   },
   "outputs": [
    {
     "data": {
      "text/plain": [
       "'Virgin Islands'"
      ]
     },
     "execution_count": 184,
     "metadata": {},
     "output_type": "execute_result"
    }
   ],
   "source": [
    "getState(105)"
   ]
  },
  {
   "cell_type": "code",
   "execution_count": 185,
   "metadata": {
    "collapsed": true
   },
   "outputs": [],
   "source": [
    "def printState(seriesNumber):\n",
    "    stateIndex = seriesNumber*linesPerSery+6\n",
    "    stateLine = lines[stateIndex].rstrip()\n",
    "    print(stateLine)"
   ]
  },
  {
   "cell_type": "code",
   "execution_count": 186,
   "metadata": {
    "collapsed": false
   },
   "outputs": [
    {
     "data": {
      "text/plain": [
       "'West Virginia'"
      ]
     },
     "execution_count": 186,
     "metadata": {},
     "output_type": "execute_result"
    }
   ],
   "source": [
    "getState(96)"
   ]
  },
  {
   "cell_type": "code",
   "execution_count": 187,
   "metadata": {
    "collapsed": true
   },
   "outputs": [],
   "source": [
    "def getIndustry(seriesNumber):\n",
    "    theIndex = seriesNumber*linesPerSery+9\n",
    "    theLine = lines[theIndex].rstrip()\n",
    "    parts = theLine.split(':')\n",
    "    theValue = parts[1].strip()\n",
    "    return theValue"
   ]
  },
  {
   "cell_type": "code",
   "execution_count": 188,
   "metadata": {
    "collapsed": false
   },
   "outputs": [
    {
     "data": {
      "text/plain": [
       "'Service-Providing'"
      ]
     },
     "execution_count": 188,
     "metadata": {},
     "output_type": "execute_result"
    }
   ],
   "source": [
    "getIndustry(105)"
   ]
  },
  {
   "cell_type": "code",
   "execution_count": 194,
   "metadata": {
    "collapsed": true
   },
   "outputs": [],
   "source": [
    "def getDataFrame(seriesNumber):\n",
    "    States = []\n",
    "    Industries = []\n",
    "    Years = []\n",
    "    Periods = []\n",
    "    Values = []\n",
    "    theStartIndex = 14\n",
    "    theEndIndex = linesPerSery - 3\n",
    "    theState = getState(seriesNumber)\n",
    "    theIndustry = getIndustry(seriesNumber)\n",
    "    for i in range(theStartIndex, theEndIndex+1, 1):\n",
    "        dataIndex = i + seriesNumber*linesPerSery\n",
    "        line = lines[dataIndex].rstrip();\n",
    "        parts = line.split(',')\n",
    "        States.append(theState)\n",
    "        Industries.append(theIndustry)\n",
    "        Years.append(int(parts[1]))\n",
    "        Periods.append(int(parts[2][1:]))\n",
    "        if \"(P)\" in parts[3] or \"(C)\" in parts[3]:\n",
    "            parts[3] = parts[3][:-3]\n",
    "        Values.append(float(parts[3]))\n",
    "    resultFrame = pd.DataFrame({'State': States, 'Industry': Industries, 'Year': Years, 'Period': Periods, 'Value': Values})\n",
    "    return resultFrame"
   ]
  },
  {
   "cell_type": "code",
   "execution_count": 195,
   "metadata": {
    "collapsed": true
   },
   "outputs": [],
   "source": [
    "x = getDataFrame(1)"
   ]
  },
  {
   "cell_type": "code",
   "execution_count": 196,
   "metadata": {
    "collapsed": false
   },
   "outputs": [],
   "source": [
    "allFrames = []\n",
    "for i in range(seriesIds):\n",
    "    allFrames.append(getDataFrame(i))"
   ]
  },
  {
   "cell_type": "code",
   "execution_count": 197,
   "metadata": {
    "collapsed": true
   },
   "outputs": [],
   "source": [
    "result0 = pd.concat(allFrames)"
   ]
  },
  {
   "cell_type": "code",
   "execution_count": 198,
   "metadata": {
    "collapsed": false
   },
   "outputs": [
    {
     "data": {
      "text/html": [
       "<div>\n",
       "<table border=\"1\" class=\"dataframe\">\n",
       "  <thead>\n",
       "    <tr style=\"text-align: right;\">\n",
       "      <th></th>\n",
       "      <th>Industry</th>\n",
       "      <th>Period</th>\n",
       "      <th>State</th>\n",
       "      <th>Value</th>\n",
       "      <th>Year</th>\n",
       "    </tr>\n",
       "  </thead>\n",
       "  <tbody>\n",
       "    <tr>\n",
       "      <th>0</th>\n",
       "      <td>Goods Producing</td>\n",
       "      <td>1</td>\n",
       "      <td>Alabama</td>\n",
       "      <td>1.1</td>\n",
       "      <td>2000</td>\n",
       "    </tr>\n",
       "    <tr>\n",
       "      <th>1</th>\n",
       "      <td>Goods Producing</td>\n",
       "      <td>2</td>\n",
       "      <td>Alabama</td>\n",
       "      <td>-1.4</td>\n",
       "      <td>2000</td>\n",
       "    </tr>\n",
       "    <tr>\n",
       "      <th>2</th>\n",
       "      <td>Goods Producing</td>\n",
       "      <td>3</td>\n",
       "      <td>Alabama</td>\n",
       "      <td>-0.8</td>\n",
       "      <td>2000</td>\n",
       "    </tr>\n",
       "    <tr>\n",
       "      <th>3</th>\n",
       "      <td>Goods Producing</td>\n",
       "      <td>4</td>\n",
       "      <td>Alabama</td>\n",
       "      <td>-1.6</td>\n",
       "      <td>2000</td>\n",
       "    </tr>\n",
       "    <tr>\n",
       "      <th>4</th>\n",
       "      <td>Goods Producing</td>\n",
       "      <td>5</td>\n",
       "      <td>Alabama</td>\n",
       "      <td>-1.9</td>\n",
       "      <td>2000</td>\n",
       "    </tr>\n",
       "  </tbody>\n",
       "</table>\n",
       "</div>"
      ],
      "text/plain": [
       "          Industry  Period    State  Value  Year\n",
       "0  Goods Producing       1  Alabama    1.1  2000\n",
       "1  Goods Producing       2  Alabama   -1.4  2000\n",
       "2  Goods Producing       3  Alabama   -0.8  2000\n",
       "3  Goods Producing       4  Alabama   -1.6  2000\n",
       "4  Goods Producing       5  Alabama   -1.9  2000"
      ]
     },
     "execution_count": 198,
     "metadata": {},
     "output_type": "execute_result"
    }
   ],
   "source": [
    "result0.head()"
   ]
  },
  {
   "cell_type": "code",
   "execution_count": 199,
   "metadata": {
    "collapsed": false
   },
   "outputs": [
    {
     "data": {
      "text/plain": [
       "23744"
      ]
     },
     "execution_count": 199,
     "metadata": {},
     "output_type": "execute_result"
    }
   ],
   "source": [
    "len(result0)"
   ]
  },
  {
   "cell_type": "code",
   "execution_count": 200,
   "metadata": {
    "collapsed": true
   },
   "outputs": [],
   "source": [
    "def monthDiff(row):\n",
    "    return (row.Year - 2000) * 12 + row.Period - 1"
   ]
  },
  {
   "cell_type": "code",
   "execution_count": 201,
   "metadata": {
    "collapsed": false
   },
   "outputs": [],
   "source": [
    "monthIndex = []\n",
    "for index, row in result0.iterrows():\n",
    "    monthIndex.append(monthDiff(row))"
   ]
  },
  {
   "cell_type": "code",
   "execution_count": 202,
   "metadata": {
    "collapsed": false
   },
   "outputs": [],
   "source": [
    "result0 = result0.assign(monthIndex=monthIndex)"
   ]
  },
  {
   "cell_type": "code",
   "execution_count": 203,
   "metadata": {
    "collapsed": false
   },
   "outputs": [
    {
     "data": {
      "text/plain": [
       "Industry      Service-Providing\n",
       "Period                        5\n",
       "State                   Alabama\n",
       "Value                       1.4\n",
       "Year                       2006\n",
       "monthIndex                   76\n",
       "Name: 76, dtype: object"
      ]
     },
     "execution_count": 203,
     "metadata": {},
     "output_type": "execute_result"
    }
   ],
   "source": [
    "result0.iloc[300]"
   ]
  },
  {
   "cell_type": "code",
   "execution_count": 204,
   "metadata": {
    "collapsed": false
   },
   "outputs": [
    {
     "data": {
      "text/plain": [
       "Index([u'Industry', u'Period', u'State', u'Value', u'Year', u'monthIndex'], dtype='object')"
      ]
     },
     "execution_count": 204,
     "metadata": {},
     "output_type": "execute_result"
    }
   ],
   "source": [
    "result0.columns"
   ]
  },
  {
   "cell_type": "code",
   "execution_count": 205,
   "metadata": {
    "collapsed": false
   },
   "outputs": [],
   "source": [
    "def getEmploymentRate(monthIndex, state, industry):\n",
    "    return result0.query('monthIndex=={0} and State==\"{1}\" and Industry==\"{2}\"'.format(monthIndex, state, industry))['Value'].iloc[0]\n"
   ]
  },
  {
   "cell_type": "code",
   "execution_count": 206,
   "metadata": {
    "collapsed": true
   },
   "outputs": [],
   "source": [
    "x = result0.query('monthIndex=={0} and State==\"{1}\" and Industry==\"{2}\"'.format(0, 'Alabama', 'Goods Producing'))"
   ]
  },
  {
   "cell_type": "code",
   "execution_count": 207,
   "metadata": {
    "collapsed": false,
    "scrolled": true
   },
   "outputs": [
    {
     "data": {
      "text/html": [
       "<div>\n",
       "<table border=\"1\" class=\"dataframe\">\n",
       "  <thead>\n",
       "    <tr style=\"text-align: right;\">\n",
       "      <th></th>\n",
       "      <th>Industry</th>\n",
       "      <th>Period</th>\n",
       "      <th>State</th>\n",
       "      <th>Value</th>\n",
       "      <th>Year</th>\n",
       "      <th>monthIndex</th>\n",
       "    </tr>\n",
       "  </thead>\n",
       "  <tbody>\n",
       "    <tr>\n",
       "      <th>0</th>\n",
       "      <td>Goods Producing</td>\n",
       "      <td>1</td>\n",
       "      <td>Alabama</td>\n",
       "      <td>1.1</td>\n",
       "      <td>2000</td>\n",
       "      <td>0</td>\n",
       "    </tr>\n",
       "  </tbody>\n",
       "</table>\n",
       "</div>"
      ],
      "text/plain": [
       "          Industry  Period    State  Value  Year  monthIndex\n",
       "0  Goods Producing       1  Alabama    1.1  2000           0"
      ]
     },
     "execution_count": 207,
     "metadata": {},
     "output_type": "execute_result"
    }
   ],
   "source": [
    "x"
   ]
  },
  {
   "cell_type": "code",
   "execution_count": 208,
   "metadata": {
    "collapsed": true
   },
   "outputs": [],
   "source": [
    "x = result0.query('monthIndex=={0} and State==\"{1}\" and Industry==\"{2}\"'.format(0, 'Alabama', 'Service-Providing'))"
   ]
  },
  {
   "cell_type": "code",
   "execution_count": 234,
   "metadata": {
    "collapsed": true
   },
   "outputs": [],
   "source": [
    "x = result0.query('monthIndex==213')"
   ]
  },
  {
   "cell_type": "code",
   "execution_count": 235,
   "metadata": {
    "collapsed": false
   },
   "outputs": [
    {
     "data": {
      "text/html": [
       "<div>\n",
       "<table border=\"1\" class=\"dataframe\">\n",
       "  <thead>\n",
       "    <tr style=\"text-align: right;\">\n",
       "      <th></th>\n",
       "      <th>Industry</th>\n",
       "      <th>Period</th>\n",
       "      <th>State</th>\n",
       "      <th>Value</th>\n",
       "      <th>Year</th>\n",
       "      <th>monthIndex</th>\n",
       "    </tr>\n",
       "  </thead>\n",
       "  <tbody>\n",
       "    <tr>\n",
       "      <th>213</th>\n",
       "      <td>Goods Producing</td>\n",
       "      <td>10</td>\n",
       "      <td>Alabama</td>\n",
       "      <td>-0.3</td>\n",
       "      <td>2017</td>\n",
       "      <td>213</td>\n",
       "    </tr>\n",
       "    <tr>\n",
       "      <th>213</th>\n",
       "      <td>Service-Providing</td>\n",
       "      <td>10</td>\n",
       "      <td>Alabama</td>\n",
       "      <td>0.4</td>\n",
       "      <td>2017</td>\n",
       "      <td>213</td>\n",
       "    </tr>\n",
       "    <tr>\n",
       "      <th>213</th>\n",
       "      <td>Goods Producing</td>\n",
       "      <td>10</td>\n",
       "      <td>Alaska</td>\n",
       "      <td>1.0</td>\n",
       "      <td>2017</td>\n",
       "      <td>213</td>\n",
       "    </tr>\n",
       "    <tr>\n",
       "      <th>213</th>\n",
       "      <td>Service-Providing</td>\n",
       "      <td>10</td>\n",
       "      <td>Alaska</td>\n",
       "      <td>-0.4</td>\n",
       "      <td>2017</td>\n",
       "      <td>213</td>\n",
       "    </tr>\n",
       "    <tr>\n",
       "      <th>213</th>\n",
       "      <td>Goods Producing</td>\n",
       "      <td>10</td>\n",
       "      <td>Arizona</td>\n",
       "      <td>1.3</td>\n",
       "      <td>2017</td>\n",
       "      <td>213</td>\n",
       "    </tr>\n",
       "    <tr>\n",
       "      <th>213</th>\n",
       "      <td>Service-Providing</td>\n",
       "      <td>10</td>\n",
       "      <td>Arizona</td>\n",
       "      <td>-2.9</td>\n",
       "      <td>2017</td>\n",
       "      <td>213</td>\n",
       "    </tr>\n",
       "    <tr>\n",
       "      <th>213</th>\n",
       "      <td>Goods Producing</td>\n",
       "      <td>10</td>\n",
       "      <td>Arkansas</td>\n",
       "      <td>0.4</td>\n",
       "      <td>2017</td>\n",
       "      <td>213</td>\n",
       "    </tr>\n",
       "    <tr>\n",
       "      <th>213</th>\n",
       "      <td>Service-Providing</td>\n",
       "      <td>10</td>\n",
       "      <td>Arkansas</td>\n",
       "      <td>3.0</td>\n",
       "      <td>2017</td>\n",
       "      <td>213</td>\n",
       "    </tr>\n",
       "    <tr>\n",
       "      <th>213</th>\n",
       "      <td>Goods Producing</td>\n",
       "      <td>10</td>\n",
       "      <td>California</td>\n",
       "      <td>11.0</td>\n",
       "      <td>2017</td>\n",
       "      <td>213</td>\n",
       "    </tr>\n",
       "    <tr>\n",
       "      <th>213</th>\n",
       "      <td>Service-Providing</td>\n",
       "      <td>10</td>\n",
       "      <td>California</td>\n",
       "      <td>53.6</td>\n",
       "      <td>2017</td>\n",
       "      <td>213</td>\n",
       "    </tr>\n",
       "    <tr>\n",
       "      <th>213</th>\n",
       "      <td>Goods Producing</td>\n",
       "      <td>10</td>\n",
       "      <td>Colorado</td>\n",
       "      <td>-1.0</td>\n",
       "      <td>2017</td>\n",
       "      <td>213</td>\n",
       "    </tr>\n",
       "    <tr>\n",
       "      <th>213</th>\n",
       "      <td>Service-Providing</td>\n",
       "      <td>10</td>\n",
       "      <td>Colorado</td>\n",
       "      <td>5.2</td>\n",
       "      <td>2017</td>\n",
       "      <td>213</td>\n",
       "    </tr>\n",
       "    <tr>\n",
       "      <th>213</th>\n",
       "      <td>Goods Producing</td>\n",
       "      <td>10</td>\n",
       "      <td>Connecticut</td>\n",
       "      <td>1.8</td>\n",
       "      <td>2017</td>\n",
       "      <td>213</td>\n",
       "    </tr>\n",
       "    <tr>\n",
       "      <th>213</th>\n",
       "      <td>Service-Providing</td>\n",
       "      <td>10</td>\n",
       "      <td>Connecticut</td>\n",
       "      <td>-3.6</td>\n",
       "      <td>2017</td>\n",
       "      <td>213</td>\n",
       "    </tr>\n",
       "    <tr>\n",
       "      <th>213</th>\n",
       "      <td>Goods Producing</td>\n",
       "      <td>10</td>\n",
       "      <td>Delaware</td>\n",
       "      <td>0.2</td>\n",
       "      <td>2017</td>\n",
       "      <td>213</td>\n",
       "    </tr>\n",
       "    <tr>\n",
       "      <th>213</th>\n",
       "      <td>Service-Providing</td>\n",
       "      <td>10</td>\n",
       "      <td>Delaware</td>\n",
       "      <td>3.0</td>\n",
       "      <td>2017</td>\n",
       "      <td>213</td>\n",
       "    </tr>\n",
       "    <tr>\n",
       "      <th>213</th>\n",
       "      <td>Goods Producing</td>\n",
       "      <td>10</td>\n",
       "      <td>District of Columbia</td>\n",
       "      <td>0.1</td>\n",
       "      <td>2017</td>\n",
       "      <td>213</td>\n",
       "    </tr>\n",
       "    <tr>\n",
       "      <th>213</th>\n",
       "      <td>Service-Providing</td>\n",
       "      <td>10</td>\n",
       "      <td>District of Columbia</td>\n",
       "      <td>2.3</td>\n",
       "      <td>2017</td>\n",
       "      <td>213</td>\n",
       "    </tr>\n",
       "    <tr>\n",
       "      <th>213</th>\n",
       "      <td>Goods Producing</td>\n",
       "      <td>10</td>\n",
       "      <td>Florida</td>\n",
       "      <td>37.5</td>\n",
       "      <td>2017</td>\n",
       "      <td>213</td>\n",
       "    </tr>\n",
       "    <tr>\n",
       "      <th>213</th>\n",
       "      <td>Service-Providing</td>\n",
       "      <td>10</td>\n",
       "      <td>Florida</td>\n",
       "      <td>142.1</td>\n",
       "      <td>2017</td>\n",
       "      <td>213</td>\n",
       "    </tr>\n",
       "    <tr>\n",
       "      <th>213</th>\n",
       "      <td>Goods Producing</td>\n",
       "      <td>10</td>\n",
       "      <td>Georgia</td>\n",
       "      <td>6.5</td>\n",
       "      <td>2017</td>\n",
       "      <td>213</td>\n",
       "    </tr>\n",
       "    <tr>\n",
       "      <th>213</th>\n",
       "      <td>Service-Providing</td>\n",
       "      <td>10</td>\n",
       "      <td>Georgia</td>\n",
       "      <td>16.6</td>\n",
       "      <td>2017</td>\n",
       "      <td>213</td>\n",
       "    </tr>\n",
       "    <tr>\n",
       "      <th>213</th>\n",
       "      <td>Goods Producing</td>\n",
       "      <td>10</td>\n",
       "      <td>Hawaii</td>\n",
       "      <td>1.0</td>\n",
       "      <td>2017</td>\n",
       "      <td>213</td>\n",
       "    </tr>\n",
       "    <tr>\n",
       "      <th>213</th>\n",
       "      <td>Service-Providing</td>\n",
       "      <td>10</td>\n",
       "      <td>Hawaii</td>\n",
       "      <td>-0.2</td>\n",
       "      <td>2017</td>\n",
       "      <td>213</td>\n",
       "    </tr>\n",
       "    <tr>\n",
       "      <th>213</th>\n",
       "      <td>Goods Producing</td>\n",
       "      <td>10</td>\n",
       "      <td>Idaho</td>\n",
       "      <td>0.8</td>\n",
       "      <td>2017</td>\n",
       "      <td>213</td>\n",
       "    </tr>\n",
       "    <tr>\n",
       "      <th>213</th>\n",
       "      <td>Service-Providing</td>\n",
       "      <td>10</td>\n",
       "      <td>Idaho</td>\n",
       "      <td>3.3</td>\n",
       "      <td>2017</td>\n",
       "      <td>213</td>\n",
       "    </tr>\n",
       "    <tr>\n",
       "      <th>213</th>\n",
       "      <td>Goods Producing</td>\n",
       "      <td>10</td>\n",
       "      <td>Illinois</td>\n",
       "      <td>0.9</td>\n",
       "      <td>2017</td>\n",
       "      <td>213</td>\n",
       "    </tr>\n",
       "    <tr>\n",
       "      <th>213</th>\n",
       "      <td>Service-Providing</td>\n",
       "      <td>10</td>\n",
       "      <td>Illinois</td>\n",
       "      <td>-0.7</td>\n",
       "      <td>2017</td>\n",
       "      <td>213</td>\n",
       "    </tr>\n",
       "    <tr>\n",
       "      <th>213</th>\n",
       "      <td>Goods Producing</td>\n",
       "      <td>10</td>\n",
       "      <td>Indiana</td>\n",
       "      <td>-4.9</td>\n",
       "      <td>2017</td>\n",
       "      <td>213</td>\n",
       "    </tr>\n",
       "    <tr>\n",
       "      <th>213</th>\n",
       "      <td>Service-Providing</td>\n",
       "      <td>10</td>\n",
       "      <td>Indiana</td>\n",
       "      <td>9.3</td>\n",
       "      <td>2017</td>\n",
       "      <td>213</td>\n",
       "    </tr>\n",
       "    <tr>\n",
       "      <th>...</th>\n",
       "      <td>...</td>\n",
       "      <td>...</td>\n",
       "      <td>...</td>\n",
       "      <td>...</td>\n",
       "      <td>...</td>\n",
       "      <td>...</td>\n",
       "    </tr>\n",
       "    <tr>\n",
       "      <th>213</th>\n",
       "      <td>Goods Producing</td>\n",
       "      <td>10</td>\n",
       "      <td>Pennsylvania</td>\n",
       "      <td>-0.3</td>\n",
       "      <td>2017</td>\n",
       "      <td>213</td>\n",
       "    </tr>\n",
       "    <tr>\n",
       "      <th>213</th>\n",
       "      <td>Service-Providing</td>\n",
       "      <td>10</td>\n",
       "      <td>Pennsylvania</td>\n",
       "      <td>14.5</td>\n",
       "      <td>2017</td>\n",
       "      <td>213</td>\n",
       "    </tr>\n",
       "    <tr>\n",
       "      <th>213</th>\n",
       "      <td>Goods Producing</td>\n",
       "      <td>10</td>\n",
       "      <td>Rhode Island</td>\n",
       "      <td>0.1</td>\n",
       "      <td>2017</td>\n",
       "      <td>213</td>\n",
       "    </tr>\n",
       "    <tr>\n",
       "      <th>213</th>\n",
       "      <td>Service-Providing</td>\n",
       "      <td>10</td>\n",
       "      <td>Rhode Island</td>\n",
       "      <td>1.6</td>\n",
       "      <td>2017</td>\n",
       "      <td>213</td>\n",
       "    </tr>\n",
       "    <tr>\n",
       "      <th>213</th>\n",
       "      <td>Goods Producing</td>\n",
       "      <td>10</td>\n",
       "      <td>South Carolina</td>\n",
       "      <td>0.1</td>\n",
       "      <td>2017</td>\n",
       "      <td>213</td>\n",
       "    </tr>\n",
       "    <tr>\n",
       "      <th>213</th>\n",
       "      <td>Service-Providing</td>\n",
       "      <td>10</td>\n",
       "      <td>South Carolina</td>\n",
       "      <td>10.8</td>\n",
       "      <td>2017</td>\n",
       "      <td>213</td>\n",
       "    </tr>\n",
       "    <tr>\n",
       "      <th>213</th>\n",
       "      <td>Goods Producing</td>\n",
       "      <td>10</td>\n",
       "      <td>South Dakota</td>\n",
       "      <td>0.3</td>\n",
       "      <td>2017</td>\n",
       "      <td>213</td>\n",
       "    </tr>\n",
       "    <tr>\n",
       "      <th>213</th>\n",
       "      <td>Service-Providing</td>\n",
       "      <td>10</td>\n",
       "      <td>South Dakota</td>\n",
       "      <td>1.0</td>\n",
       "      <td>2017</td>\n",
       "      <td>213</td>\n",
       "    </tr>\n",
       "    <tr>\n",
       "      <th>213</th>\n",
       "      <td>Goods Producing</td>\n",
       "      <td>10</td>\n",
       "      <td>Tennessee</td>\n",
       "      <td>0.9</td>\n",
       "      <td>2017</td>\n",
       "      <td>213</td>\n",
       "    </tr>\n",
       "    <tr>\n",
       "      <th>213</th>\n",
       "      <td>Service-Providing</td>\n",
       "      <td>10</td>\n",
       "      <td>Tennessee</td>\n",
       "      <td>7.3</td>\n",
       "      <td>2017</td>\n",
       "      <td>213</td>\n",
       "    </tr>\n",
       "    <tr>\n",
       "      <th>213</th>\n",
       "      <td>Goods Producing</td>\n",
       "      <td>10</td>\n",
       "      <td>Texas</td>\n",
       "      <td>9.7</td>\n",
       "      <td>2017</td>\n",
       "      <td>213</td>\n",
       "    </tr>\n",
       "    <tr>\n",
       "      <th>213</th>\n",
       "      <td>Service-Providing</td>\n",
       "      <td>10</td>\n",
       "      <td>Texas</td>\n",
       "      <td>59.1</td>\n",
       "      <td>2017</td>\n",
       "      <td>213</td>\n",
       "    </tr>\n",
       "    <tr>\n",
       "      <th>213</th>\n",
       "      <td>Goods Producing</td>\n",
       "      <td>10</td>\n",
       "      <td>Utah</td>\n",
       "      <td>0.2</td>\n",
       "      <td>2017</td>\n",
       "      <td>213</td>\n",
       "    </tr>\n",
       "    <tr>\n",
       "      <th>213</th>\n",
       "      <td>Service-Providing</td>\n",
       "      <td>10</td>\n",
       "      <td>Utah</td>\n",
       "      <td>4.3</td>\n",
       "      <td>2017</td>\n",
       "      <td>213</td>\n",
       "    </tr>\n",
       "    <tr>\n",
       "      <th>213</th>\n",
       "      <td>Goods Producing</td>\n",
       "      <td>10</td>\n",
       "      <td>Vermont</td>\n",
       "      <td>-0.3</td>\n",
       "      <td>2017</td>\n",
       "      <td>213</td>\n",
       "    </tr>\n",
       "    <tr>\n",
       "      <th>213</th>\n",
       "      <td>Service-Providing</td>\n",
       "      <td>10</td>\n",
       "      <td>Vermont</td>\n",
       "      <td>0.9</td>\n",
       "      <td>2017</td>\n",
       "      <td>213</td>\n",
       "    </tr>\n",
       "    <tr>\n",
       "      <th>213</th>\n",
       "      <td>Goods Producing</td>\n",
       "      <td>10</td>\n",
       "      <td>Virginia</td>\n",
       "      <td>1.0</td>\n",
       "      <td>2017</td>\n",
       "      <td>213</td>\n",
       "    </tr>\n",
       "    <tr>\n",
       "      <th>213</th>\n",
       "      <td>Service-Providing</td>\n",
       "      <td>10</td>\n",
       "      <td>Virginia</td>\n",
       "      <td>-1.5</td>\n",
       "      <td>2017</td>\n",
       "      <td>213</td>\n",
       "    </tr>\n",
       "    <tr>\n",
       "      <th>213</th>\n",
       "      <td>Goods Producing</td>\n",
       "      <td>10</td>\n",
       "      <td>Washington</td>\n",
       "      <td>2.7</td>\n",
       "      <td>2017</td>\n",
       "      <td>213</td>\n",
       "    </tr>\n",
       "    <tr>\n",
       "      <th>213</th>\n",
       "      <td>Service-Providing</td>\n",
       "      <td>10</td>\n",
       "      <td>Washington</td>\n",
       "      <td>9.1</td>\n",
       "      <td>2017</td>\n",
       "      <td>213</td>\n",
       "    </tr>\n",
       "    <tr>\n",
       "      <th>213</th>\n",
       "      <td>Goods Producing</td>\n",
       "      <td>10</td>\n",
       "      <td>West Virginia</td>\n",
       "      <td>1.1</td>\n",
       "      <td>2017</td>\n",
       "      <td>213</td>\n",
       "    </tr>\n",
       "    <tr>\n",
       "      <th>213</th>\n",
       "      <td>Service-Providing</td>\n",
       "      <td>10</td>\n",
       "      <td>West Virginia</td>\n",
       "      <td>-0.3</td>\n",
       "      <td>2017</td>\n",
       "      <td>213</td>\n",
       "    </tr>\n",
       "    <tr>\n",
       "      <th>213</th>\n",
       "      <td>Goods Producing</td>\n",
       "      <td>10</td>\n",
       "      <td>Wisconsin</td>\n",
       "      <td>1.6</td>\n",
       "      <td>2017</td>\n",
       "      <td>213</td>\n",
       "    </tr>\n",
       "    <tr>\n",
       "      <th>213</th>\n",
       "      <td>Service-Providing</td>\n",
       "      <td>10</td>\n",
       "      <td>Wisconsin</td>\n",
       "      <td>2.1</td>\n",
       "      <td>2017</td>\n",
       "      <td>213</td>\n",
       "    </tr>\n",
       "    <tr>\n",
       "      <th>213</th>\n",
       "      <td>Goods Producing</td>\n",
       "      <td>10</td>\n",
       "      <td>Wyoming</td>\n",
       "      <td>0.1</td>\n",
       "      <td>2017</td>\n",
       "      <td>213</td>\n",
       "    </tr>\n",
       "    <tr>\n",
       "      <th>213</th>\n",
       "      <td>Service-Providing</td>\n",
       "      <td>10</td>\n",
       "      <td>Wyoming</td>\n",
       "      <td>0.2</td>\n",
       "      <td>2017</td>\n",
       "      <td>213</td>\n",
       "    </tr>\n",
       "    <tr>\n",
       "      <th>213</th>\n",
       "      <td>Goods Producing</td>\n",
       "      <td>10</td>\n",
       "      <td>Puerto Rico</td>\n",
       "      <td>-2.6</td>\n",
       "      <td>2017</td>\n",
       "      <td>213</td>\n",
       "    </tr>\n",
       "    <tr>\n",
       "      <th>213</th>\n",
       "      <td>Service-Providing</td>\n",
       "      <td>10</td>\n",
       "      <td>Puerto Rico</td>\n",
       "      <td>-32.4</td>\n",
       "      <td>2017</td>\n",
       "      <td>213</td>\n",
       "    </tr>\n",
       "    <tr>\n",
       "      <th>213</th>\n",
       "      <td>Goods Producing</td>\n",
       "      <td>10</td>\n",
       "      <td>Virgin Islands</td>\n",
       "      <td>0.2</td>\n",
       "      <td>2017</td>\n",
       "      <td>213</td>\n",
       "    </tr>\n",
       "    <tr>\n",
       "      <th>213</th>\n",
       "      <td>Service-Providing</td>\n",
       "      <td>10</td>\n",
       "      <td>Virgin Islands</td>\n",
       "      <td>-1.8</td>\n",
       "      <td>2017</td>\n",
       "      <td>213</td>\n",
       "    </tr>\n",
       "  </tbody>\n",
       "</table>\n",
       "<p>106 rows × 6 columns</p>\n",
       "</div>"
      ],
      "text/plain": [
       "              Industry  Period                 State  Value  Year  monthIndex\n",
       "213    Goods Producing      10               Alabama   -0.3  2017         213\n",
       "213  Service-Providing      10               Alabama    0.4  2017         213\n",
       "213    Goods Producing      10                Alaska    1.0  2017         213\n",
       "213  Service-Providing      10                Alaska   -0.4  2017         213\n",
       "213    Goods Producing      10               Arizona    1.3  2017         213\n",
       "213  Service-Providing      10               Arizona   -2.9  2017         213\n",
       "213    Goods Producing      10              Arkansas    0.4  2017         213\n",
       "213  Service-Providing      10              Arkansas    3.0  2017         213\n",
       "213    Goods Producing      10            California   11.0  2017         213\n",
       "213  Service-Providing      10            California   53.6  2017         213\n",
       "213    Goods Producing      10              Colorado   -1.0  2017         213\n",
       "213  Service-Providing      10              Colorado    5.2  2017         213\n",
       "213    Goods Producing      10           Connecticut    1.8  2017         213\n",
       "213  Service-Providing      10           Connecticut   -3.6  2017         213\n",
       "213    Goods Producing      10              Delaware    0.2  2017         213\n",
       "213  Service-Providing      10              Delaware    3.0  2017         213\n",
       "213    Goods Producing      10  District of Columbia    0.1  2017         213\n",
       "213  Service-Providing      10  District of Columbia    2.3  2017         213\n",
       "213    Goods Producing      10               Florida   37.5  2017         213\n",
       "213  Service-Providing      10               Florida  142.1  2017         213\n",
       "213    Goods Producing      10               Georgia    6.5  2017         213\n",
       "213  Service-Providing      10               Georgia   16.6  2017         213\n",
       "213    Goods Producing      10                Hawaii    1.0  2017         213\n",
       "213  Service-Providing      10                Hawaii   -0.2  2017         213\n",
       "213    Goods Producing      10                 Idaho    0.8  2017         213\n",
       "213  Service-Providing      10                 Idaho    3.3  2017         213\n",
       "213    Goods Producing      10              Illinois    0.9  2017         213\n",
       "213  Service-Providing      10              Illinois   -0.7  2017         213\n",
       "213    Goods Producing      10               Indiana   -4.9  2017         213\n",
       "213  Service-Providing      10               Indiana    9.3  2017         213\n",
       "..                 ...     ...                   ...    ...   ...         ...\n",
       "213    Goods Producing      10          Pennsylvania   -0.3  2017         213\n",
       "213  Service-Providing      10          Pennsylvania   14.5  2017         213\n",
       "213    Goods Producing      10          Rhode Island    0.1  2017         213\n",
       "213  Service-Providing      10          Rhode Island    1.6  2017         213\n",
       "213    Goods Producing      10        South Carolina    0.1  2017         213\n",
       "213  Service-Providing      10        South Carolina   10.8  2017         213\n",
       "213    Goods Producing      10          South Dakota    0.3  2017         213\n",
       "213  Service-Providing      10          South Dakota    1.0  2017         213\n",
       "213    Goods Producing      10             Tennessee    0.9  2017         213\n",
       "213  Service-Providing      10             Tennessee    7.3  2017         213\n",
       "213    Goods Producing      10                 Texas    9.7  2017         213\n",
       "213  Service-Providing      10                 Texas   59.1  2017         213\n",
       "213    Goods Producing      10                  Utah    0.2  2017         213\n",
       "213  Service-Providing      10                  Utah    4.3  2017         213\n",
       "213    Goods Producing      10               Vermont   -0.3  2017         213\n",
       "213  Service-Providing      10               Vermont    0.9  2017         213\n",
       "213    Goods Producing      10              Virginia    1.0  2017         213\n",
       "213  Service-Providing      10              Virginia   -1.5  2017         213\n",
       "213    Goods Producing      10            Washington    2.7  2017         213\n",
       "213  Service-Providing      10            Washington    9.1  2017         213\n",
       "213    Goods Producing      10         West Virginia    1.1  2017         213\n",
       "213  Service-Providing      10         West Virginia   -0.3  2017         213\n",
       "213    Goods Producing      10             Wisconsin    1.6  2017         213\n",
       "213  Service-Providing      10             Wisconsin    2.1  2017         213\n",
       "213    Goods Producing      10               Wyoming    0.1  2017         213\n",
       "213  Service-Providing      10               Wyoming    0.2  2017         213\n",
       "213    Goods Producing      10           Puerto Rico   -2.6  2017         213\n",
       "213  Service-Providing      10           Puerto Rico  -32.4  2017         213\n",
       "213    Goods Producing      10        Virgin Islands    0.2  2017         213\n",
       "213  Service-Providing      10        Virgin Islands   -1.8  2017         213\n",
       "\n",
       "[106 rows x 6 columns]"
      ]
     },
     "execution_count": 235,
     "metadata": {},
     "output_type": "execute_result"
    }
   ],
   "source": [
    "x"
   ]
  },
  {
   "cell_type": "code",
   "execution_count": 210,
   "metadata": {
    "collapsed": false
   },
   "outputs": [
    {
     "data": {
      "text/plain": [
       "-0.5"
      ]
     },
     "execution_count": 210,
     "metadata": {},
     "output_type": "execute_result"
    }
   ],
   "source": [
    "getEmploymentRate(1, 'Alabama', 'Service-Providing')"
   ]
  },
  {
   "cell_type": "code",
   "execution_count": 211,
   "metadata": {
    "collapsed": true
   },
   "outputs": [],
   "source": [
    "States = result['State'].unique()"
   ]
  },
  {
   "cell_type": "code",
   "execution_count": 212,
   "metadata": {
    "collapsed": true
   },
   "outputs": [],
   "source": [
    "years = result['monthIndex'].unique()"
   ]
  },
  {
   "cell_type": "code",
   "execution_count": 213,
   "metadata": {
    "collapsed": false
   },
   "outputs": [],
   "source": [
    "YearData = []\n",
    "StateData = []\n",
    "GoodProducingEmploymentRate = []\n",
    "SerivceProvidingEmploymentRate = []\n",
    "for year in years:\n",
    "    for state in States:\n",
    "        YearData.append(year)\n",
    "        StateData.append(state)\n",
    "        GoodProducingEmploymentRate.append(getEmploymentRate(year, state, 'Goods Producing'))\n",
    "        SerivceProvidingEmploymentRate.append(getEmploymentRate(year, state, 'Service-Providing'))"
   ]
  },
  {
   "cell_type": "code",
   "execution_count": 214,
   "metadata": {
    "collapsed": false
   },
   "outputs": [],
   "source": [
    "result = pd.DataFrame({'monthIndex': YearData, 'State': StateData, 'GoodsProducingRate': GoodProducingEmploymentRate, 'ServiceProvidingRate': SerivceProvidingEmploymentRate})"
   ]
  },
  {
   "cell_type": "code",
   "execution_count": 215,
   "metadata": {
    "collapsed": false
   },
   "outputs": [
    {
     "data": {
      "text/plain": [
       "numpy.float64"
      ]
     },
     "execution_count": 215,
     "metadata": {},
     "output_type": "execute_result"
    }
   ],
   "source": [
    "type(result['GoodsProducingRate'][0])"
   ]
  },
  {
   "cell_type": "code",
   "execution_count": 216,
   "metadata": {
    "collapsed": true
   },
   "outputs": [],
   "source": [
    "Variables = [\"GoodsProducingRate\", \"ServiceProvidingRate\"]"
   ]
  },
  {
   "cell_type": "code",
   "execution_count": 217,
   "metadata": {
    "collapsed": true
   },
   "outputs": [],
   "source": [
    "Scagnostics = [\"Outlying\"]\n",
    "Symbols = result['State'].unique()"
   ]
  },
  {
   "cell_type": "code",
   "execution_count": 218,
   "metadata": {
    "collapsed": true
   },
   "outputs": [],
   "source": [
    "def getDataFromMonth(month):\n",
    "    r = result.query('monthIndex=='+str(month))\n",
    "    r1 = None\n",
    "    if(len(r)>0):        \n",
    "        r1 = r.copy()\n",
    "        maxV0 = max(r[Variables[0]])\n",
    "        minV0 = min(r[Variables[0]])\n",
    "        maxV1 = max(r[Variables[1]])\n",
    "        minV1 = min(r[Variables[1]])\n",
    "        r1['normalized'+Variables[0]] = r[Variables[0]].apply(lambda c: (c-minV0)/(maxV0-minV0))\n",
    "        r1['normalized'+Variables[1]] = r[Variables[1]].apply(lambda o: (o-minV1)/(maxV1-minV1))\n",
    "    return r1"
   ]
  },
  {
   "cell_type": "code",
   "execution_count": 219,
   "metadata": {
    "collapsed": true
   },
   "outputs": [],
   "source": [
    "monthSymbolData = pd.DataFrame();\n",
    "for month in range(max(result['monthIndex'])+1):\n",
    "    monthSymbolData = pd.concat([monthSymbolData, getDataFromMonth(month)]) "
   ]
  },
  {
   "cell_type": "code",
   "execution_count": 220,
   "metadata": {
    "collapsed": true
   },
   "outputs": [],
   "source": [
    "def getDataMonthSymbol(month, symbol):\n",
    "    return monthSymbolData.query('monthIndex=='+str(month)+' and State==\"'+symbol+'\"')"
   ]
  },
  {
   "cell_type": "code",
   "execution_count": 221,
   "metadata": {
    "collapsed": true
   },
   "outputs": [],
   "source": [
    "processedMonthData = []\n",
    "for month in range(max(result['monthIndex'])+1):\n",
    "    s0 = []\n",
    "    s1 = []\n",
    "    for symbol in Symbols:\n",
    "        x = getDataMonthSymbol(month, symbol)\n",
    "        if len(x)>0:\n",
    "            s0.append(x['normalized'+Variables[0]].iloc[0])\n",
    "            s1.append(x['normalized'+Variables[1]].iloc[0])\n",
    "        else:\n",
    "            s0.append('NaN')\n",
    "            s1.append('NaN')\n",
    "    processedMonthData.append({'s0': s0, 's1': s1})"
   ]
  },
  {
   "cell_type": "code",
   "execution_count": 222,
   "metadata": {
    "collapsed": true
   },
   "outputs": [],
   "source": [
    "Scagnostics0 = [0];\n",
    "for md in processedMonthData:\n",
    "    md['Scagnostics0'] = Scagnostics0"
   ]
  },
  {
   "cell_type": "code",
   "execution_count": 223,
   "metadata": {
    "collapsed": true
   },
   "outputs": [],
   "source": [
    "import math"
   ]
  },
  {
   "cell_type": "code",
   "execution_count": 224,
   "metadata": {
    "collapsed": true
   },
   "outputs": [],
   "source": [
    "processedSymbolData = {}\n",
    "for symbol in Symbols:\n",
    "    singleSymbolData = []\n",
    "    for month in range(max(result['monthIndex'])+1):\n",
    "        d = getDataMonthSymbol(month, symbol)\n",
    "        if len(d)>0 and (not math.isnan(d[Variables[0]].iloc[0])) and (not math.isnan(d[Variables[1]].iloc[0])):\n",
    "            v0 = d[Variables[0]].iloc[0]\n",
    "            v1 = d[Variables[1]].iloc[0]\n",
    "            s0 = d['normalized'+Variables[0]].iloc[0]\n",
    "            s1 = d['normalized'+Variables[1]].iloc[0]\n",
    "        else:\n",
    "            v0 = 'NaN'\n",
    "            v1 = 'NaN'\n",
    "            s0 = 'NaN'\n",
    "            s1 = 'NaN'\n",
    "        singleMonthData ={\"v0\": v0, \"v1\": v1, \"s0\": s0, \"s1\": s1, \"Outlying\": 0, \"year\": month}\n",
    "        singleSymbolData.append(singleMonthData)\n",
    "    processedSymbolData[symbol] = singleSymbolData"
   ]
  },
  {
   "cell_type": "code",
   "execution_count": 225,
   "metadata": {
    "collapsed": true
   },
   "outputs": [],
   "source": [
    "finalResult = {}\n",
    "finalResult['Scagnostics'] = Scagnostics\n",
    "finalResult['Variables'] = Variables\n",
    "finalResult['Countries'] = list(Symbols)\n",
    "finalResult['YearsData'] = processedMonthData\n",
    "finalResult['CountriesData'] = processedSymbolData"
   ]
  },
  {
   "cell_type": "code",
   "execution_count": 226,
   "metadata": {
    "collapsed": true
   },
   "outputs": [],
   "source": [
    "import json\n",
    "with open('USEmploymentRateGoodVsService.json', 'w') as outfile:\n",
    "    json.dump(finalResult, outfile)"
   ]
  },
  {
   "cell_type": "code",
   "execution_count": 227,
   "metadata": {
    "collapsed": false
   },
   "outputs": [
    {
     "data": {
      "text/plain": [
       "223"
      ]
     },
     "execution_count": 227,
     "metadata": {},
     "output_type": "execute_result"
    }
   ],
   "source": [
    "max(result['monthIndex'])"
   ]
  },
  {
   "cell_type": "code",
   "execution_count": 233,
   "metadata": {
    "collapsed": false
   },
   "outputs": [
    {
     "data": {
      "text/html": [
       "<div>\n",
       "<table border=\"1\" class=\"dataframe\">\n",
       "  <thead>\n",
       "    <tr style=\"text-align: right;\">\n",
       "      <th></th>\n",
       "      <th>GoodsProducingRate</th>\n",
       "      <th>ServiceProvidingRate</th>\n",
       "      <th>State</th>\n",
       "      <th>monthIndex</th>\n",
       "    </tr>\n",
       "  </thead>\n",
       "  <tbody>\n",
       "    <tr>\n",
       "      <th>11298</th>\n",
       "      <td>37.5</td>\n",
       "      <td>142.1</td>\n",
       "      <td>Florida</td>\n",
       "      <td>213</td>\n",
       "    </tr>\n",
       "  </tbody>\n",
       "</table>\n",
       "</div>"
      ],
      "text/plain": [
       "       GoodsProducingRate  ServiceProvidingRate    State  monthIndex\n",
       "11298                37.5                 142.1  Florida         213"
      ]
     },
     "execution_count": 233,
     "metadata": {},
     "output_type": "execute_result"
    }
   ],
   "source": [
    "result.query('monthIndex==213 and State==\"Florida\"')"
   ]
  },
  {
   "cell_type": "code",
   "execution_count": null,
   "metadata": {
    "collapsed": true
   },
   "outputs": [],
   "source": []
  }
 ],
 "metadata": {
  "kernelspec": {
   "display_name": "Python 2",
   "language": "python",
   "name": "python2"
  },
  "language_info": {
   "codemirror_mode": {
    "name": "ipython",
    "version": 2
   },
   "file_extension": ".py",
   "mimetype": "text/x-python",
   "name": "python",
   "nbconvert_exporter": "python",
   "pygments_lexer": "ipython2",
   "version": "2.7.13"
  }
 },
 "nbformat": 4,
 "nbformat_minor": 2
}
