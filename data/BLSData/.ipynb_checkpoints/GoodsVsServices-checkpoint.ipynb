{
 "cells": [
  {
   "cell_type": "code",
   "execution_count": 30,
   "metadata": {
    "collapsed": true
   },
   "outputs": [],
   "source": [
    "import pandas as pd\n",
    "import numpy as np"
   ]
  },
  {
   "cell_type": "code",
   "execution_count": 6,
   "metadata": {
    "collapsed": false
   },
   "outputs": [],
   "source": [
    "fh = open(\"GoodsVsServices.txt\", \"r\") \n",
    "lines = fh.readlines()"
   ]
  },
  {
   "cell_type": "code",
   "execution_count": 7,
   "metadata": {
    "collapsed": true
   },
   "outputs": [],
   "source": [
    "seriesIds = 106\n",
    "linesPerSery = 240 #including two spaces on top"
   ]
  },
  {
   "cell_type": "code",
   "execution_count": 18,
   "metadata": {
    "collapsed": true
   },
   "outputs": [],
   "source": [
    "def getState(seriesNumber):\n",
    "    stateIndex = seriesNumber*linesPerSery+6\n",
    "    stateLine = lines[stateIndex].rstrip()\n",
    "    parts = stateLine.split(':')\n",
    "    state = parts[1].strip()\n",
    "    return state"
   ]
  },
  {
   "cell_type": "code",
   "execution_count": 19,
   "metadata": {
    "collapsed": false
   },
   "outputs": [
    {
     "data": {
      "text/plain": [
       "'Alabama'"
      ]
     },
     "execution_count": 19,
     "metadata": {},
     "output_type": "execute_result"
    }
   ],
   "source": [
    "getState(0)"
   ]
  },
  {
   "cell_type": "code",
   "execution_count": 20,
   "metadata": {
    "collapsed": true
   },
   "outputs": [],
   "source": [
    "def getIndustry(seriesNumber):\n",
    "    theIndex = seriesNumber*linesPerSery+9\n",
    "    theLine = lines[theIndex].rstrip()\n",
    "    parts = theLine.split(':')\n",
    "    theValue = parts[1].strip()\n",
    "    return theValue"
   ]
  },
  {
   "cell_type": "code",
   "execution_count": 21,
   "metadata": {
    "collapsed": false
   },
   "outputs": [
    {
     "data": {
      "text/plain": [
       "'Goods Producing'"
      ]
     },
     "execution_count": 21,
     "metadata": {},
     "output_type": "execute_result"
    }
   ],
   "source": [
    "getIndustry(0)"
   ]
  },
  {
   "cell_type": "code",
   "execution_count": 37,
   "metadata": {
    "collapsed": true
   },
   "outputs": [],
   "source": [
    "def getDataFrame(seriesNumber):\n",
    "    States = []\n",
    "    Industries = []\n",
    "    Years = []\n",
    "    Periods = []\n",
    "    Values = []\n",
    "    theStartIndex = 14\n",
    "    theEndIndex = linesPerSery - 3\n",
    "    theState = getState(seriesNumber)\n",
    "    theIndustry = getIndustry(seriesNumber)\n",
    "    for i in range(theStartIndex, theEndIndex+1, 1):\n",
    "        line = lines[i].rstrip();\n",
    "        parts = line.split(',')\n",
    "        States.append(theState)\n",
    "        Industries.append(theIndustry)\n",
    "        Years.append(parts[1])\n",
    "        Periods.append(parts[2][1:])\n",
    "        Values.append(parts[3])\n",
    "    resultFrame = pd.DataFrame({'States': States, 'Industries': Industries, 'Years': Years, 'Periods': Periods, 'Values': Values})\n",
    "    return resultFrame"
   ]
  },
  {
   "cell_type": "code",
   "execution_count": 38,
   "metadata": {
    "collapsed": false
   },
   "outputs": [],
   "source": [
    "x = getDataFrame(0)"
   ]
  },
  {
   "cell_type": "code",
   "execution_count": 39,
   "metadata": {
    "collapsed": false
   },
   "outputs": [
    {
     "data": {
      "text/html": [
       "<div>\n",
       "<table border=\"1\" class=\"dataframe\">\n",
       "  <thead>\n",
       "    <tr style=\"text-align: right;\">\n",
       "      <th></th>\n",
       "      <th>Industries</th>\n",
       "      <th>Periods</th>\n",
       "      <th>States</th>\n",
       "      <th>Values</th>\n",
       "      <th>Years</th>\n",
       "    </tr>\n",
       "  </thead>\n",
       "  <tbody>\n",
       "    <tr>\n",
       "      <th>0</th>\n",
       "      <td>Goods Producing</td>\n",
       "      <td>01</td>\n",
       "      <td>Alabama</td>\n",
       "      <td>1.1</td>\n",
       "      <td>2000</td>\n",
       "    </tr>\n",
       "    <tr>\n",
       "      <th>1</th>\n",
       "      <td>Goods Producing</td>\n",
       "      <td>02</td>\n",
       "      <td>Alabama</td>\n",
       "      <td>-1.4</td>\n",
       "      <td>2000</td>\n",
       "    </tr>\n",
       "    <tr>\n",
       "      <th>2</th>\n",
       "      <td>Goods Producing</td>\n",
       "      <td>03</td>\n",
       "      <td>Alabama</td>\n",
       "      <td>-0.8</td>\n",
       "      <td>2000</td>\n",
       "    </tr>\n",
       "    <tr>\n",
       "      <th>3</th>\n",
       "      <td>Goods Producing</td>\n",
       "      <td>04</td>\n",
       "      <td>Alabama</td>\n",
       "      <td>-1.6</td>\n",
       "      <td>2000</td>\n",
       "    </tr>\n",
       "    <tr>\n",
       "      <th>4</th>\n",
       "      <td>Goods Producing</td>\n",
       "      <td>05</td>\n",
       "      <td>Alabama</td>\n",
       "      <td>-1.9</td>\n",
       "      <td>2000</td>\n",
       "    </tr>\n",
       "  </tbody>\n",
       "</table>\n",
       "</div>"
      ],
      "text/plain": [
       "        Industries Periods   States Values Years\n",
       "0  Goods Producing      01  Alabama    1.1  2000\n",
       "1  Goods Producing      02  Alabama   -1.4  2000\n",
       "2  Goods Producing      03  Alabama   -0.8  2000\n",
       "3  Goods Producing      04  Alabama   -1.6  2000\n",
       "4  Goods Producing      05  Alabama   -1.9  2000"
      ]
     },
     "execution_count": 39,
     "metadata": {},
     "output_type": "execute_result"
    }
   ],
   "source": [
    "x.head()"
   ]
  },
  {
   "cell_type": "code",
   "execution_count": 27,
   "metadata": {
    "collapsed": false
   },
   "outputs": [],
   "source": [
    "line = lines[14].rstrip()"
   ]
  },
  {
   "cell_type": "code",
   "execution_count": 28,
   "metadata": {
    "collapsed": false
   },
   "outputs": [
    {
     "data": {
      "text/plain": [
       "'SMS01000000600000001,2000,M01,1.1'"
      ]
     },
     "execution_count": 28,
     "metadata": {},
     "output_type": "execute_result"
    }
   ],
   "source": [
    "line"
   ]
  },
  {
   "cell_type": "code",
   "execution_count": 29,
   "metadata": {
    "collapsed": false
   },
   "outputs": [
    {
     "data": {
      "text/plain": [
       "['SMS01000000600000001', '2000', 'M01', '1.1']"
      ]
     },
     "execution_count": 29,
     "metadata": {},
     "output_type": "execute_result"
    }
   ],
   "source": [
    "line.split(',')"
   ]
  },
  {
   "cell_type": "code",
   "execution_count": null,
   "metadata": {
    "collapsed": true
   },
   "outputs": [],
   "source": []
  }
 ],
 "metadata": {
  "kernelspec": {
   "display_name": "Python 2",
   "language": "python",
   "name": "python2"
  },
  "language_info": {
   "codemirror_mode": {
    "name": "ipython",
    "version": 2
   },
   "file_extension": ".py",
   "mimetype": "text/x-python",
   "name": "python",
   "nbconvert_exporter": "python",
   "pygments_lexer": "ipython2",
   "version": "2.7.13"
  }
 },
 "nbformat": 4,
 "nbformat_minor": 2
}
